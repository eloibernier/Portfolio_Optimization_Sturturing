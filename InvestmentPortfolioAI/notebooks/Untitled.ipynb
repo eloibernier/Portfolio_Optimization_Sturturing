{
 "cells": [
  {
   "cell_type": "markdown",
   "id": "06b2c380-c8ef-4ef3-ba03-b39053012fcf",
   "metadata": {},
   "source": [
    "# Test and Data"
   ]
  },
  {
   "cell_type": "code",
   "execution_count": null,
   "id": "7bb895fc-607c-47d2-a121-193e8af67dae",
   "metadata": {},
   "outputs": [],
   "source": []
  },
  {
   "cell_type": "code",
   "execution_count": null,
   "id": "ac44cca3-a937-4cf1-8f4d-8728dc2542cf",
   "metadata": {},
   "outputs": [],
   "source": []
  }
 ],
 "metadata": {
  "kernelspec": {
   "display_name": "Python 3.10",
   "language": "python",
   "name": "py310"
  },
  "language_info": {
   "codemirror_mode": {
    "name": "ipython",
    "version": 3
   },
   "file_extension": ".py",
   "mimetype": "text/x-python",
   "name": "python",
   "nbconvert_exporter": "python",
   "pygments_lexer": "ipython3",
   "version": "3.10.11"
  }
 },
 "nbformat": 4,
 "nbformat_minor": 5
}
