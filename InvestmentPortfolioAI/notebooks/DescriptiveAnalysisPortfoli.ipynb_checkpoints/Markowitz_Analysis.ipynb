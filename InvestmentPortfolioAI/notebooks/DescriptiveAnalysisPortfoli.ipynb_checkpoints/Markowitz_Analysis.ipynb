{
 "cells": [
  {
   "cell_type": "markdown",
   "id": "02a7b510",
   "metadata": {},
   "source": [
    "# 🚀 Efficience frontier analysis 📈"
   ]
  },
  {
   "cell_type": "markdown",
   "id": "a7f6e4a1",
   "metadata": {},
   "source": [
    "We will do an efficient frontier analysis based on the portfolio defined in the Data&ETF dataset.\n",
    "\n",
    "## Steps for Efficient Frontier Analysis\n",
    "\n",
    "1. **Data Preparation**\n",
    "    - Load historical price data for each asset in the portfolio.\n",
    "    - Calculate daily returns for each asset.\n",
    "\n",
    "2. **Calculate Expected Returns and Covariance Matrix**\n",
    "    - Compute the mean (expected) return for each asset:  \n",
    "      $$\n",
    "      \\mu_i = \\frac{1}{N} \\sum_{t=1}^{N} r_{i,t}\n",
    "      $$\n",
    "    - Calculate the covariance matrix of asset returns:  \n",
    "      $$\n",
    "      \\Sigma_{ij} = \\frac{1}{N-1} \\sum_{t=1}^{N} (r_{i,t} - \\mu_i)(r_{j,t} - \\mu_j)\n",
    "      $$\n",
    "\n",
    "3. **Portfolio Return and Risk Calculation**\n",
    "    - For a given set of weights $w$, calculate portfolio expected return:  \n",
    "      $$\n",
    "      \\mu_p = \\sum_{i=1}^{n} w_i \\mu_i\n",
    "      $$\n",
    "    - Calculate portfolio variance (risk):  \n",
    "      Weight transposed * Covariance * Weight\n",
    "      $$\n",
    "      \n",
    "      \\sigma_p^2 = w^T \\Sigma w\n",
    "      $$\n",
    "    - Portfolio standard deviation (volatility):  \n",
    "      $$\n",
    "      \\sigma_p = \\sqrt{w^T \\Sigma w}\n",
    "      $$\n",
    "\n",
    "4. **Optimization to Find Efficient Frontier**\n",
    "    - Vary the weights $w$ to maximize return for a given risk or minimize risk for a given return, subject to constraints:\n",
    "      - $\\sum_{i=1}^{n} w_i = 1$ (weights sum to 1)\n",
    "      - $w_i \\geq 0$ (no short selling, if required)\n",
    "\n",
    "5. **Visualization**\n",
    "    - Plot the efficient frontier: risk (x-axis) vs. expected return (y-axis).\n",
    "    - Highlight the optimal portfolio (e.g., maximum Sharpe ratio).\n",
    "\n",
    "---\n",
    "\n",
    "**Key Mathematical Rules:**\n",
    "- Mean and covariance calculations for returns.\n",
    "- Portfolio return and risk formulas.\n",
    "- Quadratic programming for optimization under constraints."
   ]
  },
  {
   "cell_type": "markdown",
   "id": "e6d58347",
   "metadata": {},
   "source": [
    "## 1. 📊 Historical price and 📅 daily returns"
   ]
  },
  {
   "cell_type": "code",
   "execution_count": 119,
   "id": "e4c4c89b",
   "metadata": {},
   "outputs": [
    {
     "name": "stdout",
     "output_type": "stream",
     "text": [
      "                AAPL     GOOGL      AMZN      MSFT      TSLA      NFLX  \\\n",
      "Date                                                                     \n",
      "2012-01-04  0.005374  0.004313 -0.008490  0.023533 -0.013177  0.113649   \n",
      "2012-01-05  0.011102 -0.013871  0.000563  0.010219 -0.021292 -0.014295   \n",
      "2012-01-06  0.010454 -0.013642  0.028152  0.015535 -0.007743  0.088146   \n",
      "2012-01-09 -0.001586 -0.042399 -0.022178 -0.013163  0.012635  0.137791   \n",
      "2012-01-10  0.003580  0.001093  0.004368  0.003605  0.013578 -0.023936   \n",
      "...              ...       ...       ...       ...       ...       ...   \n",
      "2024-12-23  0.003065  0.016823  0.000622 -0.003092  0.022657  0.002640   \n",
      "2024-12-24  0.011478  0.007604  0.017729  0.009374  0.073572  0.022678   \n",
      "2024-12-26  0.003176 -0.002601 -0.008732 -0.002777 -0.017630 -0.008561   \n",
      "2024-12-27 -0.013242 -0.014519 -0.014534 -0.017302 -0.049479 -0.017952   \n",
      "2024-12-30 -0.013263 -0.007885 -0.010950 -0.013240 -0.033012 -0.007845   \n",
      "\n",
      "                NVDA         V       QQQ       SPY  \n",
      "Date                                                \n",
      "2012-01-04  0.011396 -0.017866  0.004218  0.001569  \n",
      "2012-01-05  0.035915  0.007514  0.008225  0.002662  \n",
      "2012-01-06 -0.011557 -0.011775  0.003471 -0.002577  \n",
      "2012-01-09  0.000000 -0.008043 -0.003287  0.002427  \n",
      "2012-01-10 -0.004126 -0.001001  0.007289  0.008671  \n",
      "...              ...       ...       ...       ...  \n",
      "2024-12-23  0.036897 -0.001542  0.009743  0.005988  \n",
      "2024-12-24  0.003938  0.010813  0.013560  0.011115  \n",
      "2024-12-26 -0.002068  0.000811 -0.000679  0.000067  \n",
      "2024-12-27 -0.020868 -0.007011 -0.013293 -0.010527  \n",
      "2024-12-30  0.003503 -0.010513 -0.013300 -0.011412  \n",
      "\n",
      "[3268 rows x 10 columns]\n"
     ]
    }
   ],
   "source": [
    "import pandas as pd\n",
    "import numpy as np\n",
    "\n",
    "## get the historical data for the assets\n",
    "HistoricalData = pd.read_csv('Data/Asset_Data.csv')\n",
    "#print(HistoricalData)\n",
    "\n",
    "# Set 'Date' as index and calculate daily returns only for numeric columns\n",
    "HistoricalData = HistoricalData.set_index('Date')\n",
    "DailyReturns = HistoricalData.ffill().pct_change(periods=1).dropna()\n",
    "print(DailyReturns)\n",
    "\n"
   ]
  },
  {
   "cell_type": "markdown",
   "id": "921124c4",
   "metadata": {},
   "source": [
    "## 2.0 📈📉 Calculate the daily returns and the covariance matrix of daily returns 🧮🔢"
   ]
  },
  {
   "cell_type": "code",
   "execution_count": 120,
   "id": "95b2d34f",
   "metadata": {},
   "outputs": [
    {
     "name": "stdout",
     "output_type": "stream",
     "text": [
      "AAPL     0.001079\n",
      "GOOGL    0.000894\n",
      "AMZN     0.001187\n",
      "MSFT     0.001053\n",
      "TSLA     0.002300\n",
      "NFLX     0.001820\n",
      "NVDA     0.002244\n",
      "V        0.000907\n",
      "QQQ      0.000792\n",
      "SPY      0.000594\n",
      "dtype: float64\n",
      "           AAPL     GOOGL      AMZN      MSFT      TSLA      NFLX      NVDA  \\\n",
      "AAPL   0.000313  0.000162  0.000169  0.000171  0.000230  0.000161  0.000242   \n",
      "GOOGL  0.000162  0.000292  0.000209  0.000180  0.000209  0.000197  0.000242   \n",
      "AMZN   0.000169  0.000209  0.000413  0.000192  0.000260  0.000267  0.000268   \n",
      "MSFT   0.000171  0.000180  0.000192  0.000268  0.000209  0.000184  0.000261   \n",
      "TSLA   0.000230  0.000209  0.000260  0.000209  0.001297  0.000318  0.000367   \n",
      "NFLX   0.000161  0.000197  0.000267  0.000184  0.000318  0.000909  0.000302   \n",
      "NVDA   0.000242  0.000242  0.000268  0.000261  0.000367  0.000302  0.000787   \n",
      "V      0.000130  0.000135  0.000135  0.000139  0.000167  0.000133  0.000184   \n",
      "QQQ    0.000174  0.000167  0.000185  0.000172  0.000233  0.000187  0.000255   \n",
      "SPY    0.000126  0.000123  0.000126  0.000129  0.000163  0.000127  0.000181   \n",
      "\n",
      "              V       QQQ       SPY  \n",
      "AAPL   0.000130  0.000174  0.000126  \n",
      "GOOGL  0.000135  0.000167  0.000123  \n",
      "AMZN   0.000135  0.000185  0.000126  \n",
      "MSFT   0.000139  0.000172  0.000129  \n",
      "TSLA   0.000167  0.000233  0.000163  \n",
      "NFLX   0.000133  0.000187  0.000127  \n",
      "NVDA   0.000184  0.000255  0.000181  \n",
      "V      0.000223  0.000128  0.000114  \n",
      "QQQ    0.000128  0.000163  0.000122  \n",
      "SPY    0.000114  0.000122  0.000107  \n"
     ]
    }
   ],
   "source": [
    "# Calculate the average daily returns by asset\n",
    "AverageDailyReturns = DailyReturns.mean()\n",
    "print(AverageDailyReturns)\n",
    "\n",
    "# Calculate the covariance matrix of daily returns\n",
    "CovarianceMatrix = DailyReturns.cov()\n",
    "print(CovarianceMatrix)\n"
   ]
  },
  {
   "cell_type": "markdown",
   "id": "4ab2928b",
   "metadata": {},
   "source": [
    "## 3.0 💹📊💡 Portfolio Return and Risk Calculation 💹📊💡\n"
   ]
  },
  {
   "cell_type": "code",
   "execution_count": 121,
   "id": "37e6f121",
   "metadata": {},
   "outputs": [
    {
     "name": "stdout",
     "output_type": "stream",
     "text": [
      "        Amount    weight\n",
      "Ticker                  \n",
      "AAPL     30000  0.571429\n",
      "GOOGL     3000  0.057143\n",
      "AMZN      4000  0.076190\n",
      "MSFT      3500  0.066667\n",
      "TSLA      2500  0.047619\n",
      "NFLX      2000  0.038095\n",
      "NVDA      4500  0.085714\n",
      "V         3000  0.057143\n",
      "QQQ          0  0.000000\n",
      "SPY          0  0.000000\n",
      "        Amount    weight\n",
      "Ticker                  \n",
      "AAPL      1500  0.012146\n",
      "GOOGL     3000  0.024291\n",
      "AMZN      4000  0.032389\n",
      "MSFT      3500  0.028340\n",
      "TSLA     50000  0.404858\n",
      "NFLX      2000  0.016194\n",
      "NVDA      4500  0.036437\n",
      "V        50000  0.404858\n",
      "QQQ          0  0.000000\n",
      "SPY       5000  0.040486\n",
      "0.0012513155\n",
      "0.0015366044\n",
      "Non optimized Portfolio Variance: 0.0002417017\n",
      "Non optimized Portfolio Standard Deviation: 0.0155467593\n",
      "Optimized Portfolio Variance: 0.0003718291\n"
     ]
    }
   ],
   "source": [
    "from globals import Asset_Amounts, OptimizedPortfolio\n",
    "\n",
    "Asset_Amounts_df = pd.DataFrame(list(Asset_Amounts.items()), columns=['Ticker', 'Amount'])\n",
    "Asset_Amounts_df = Asset_Amounts_df.set_index('Ticker')\n",
    "OptimizedPortfolio_df = pd.DataFrame(list(OptimizedPortfolio.items()), columns=['Ticker', 'Amount'])\n",
    "OptimizedPortfolio_df = OptimizedPortfolio_df.set_index('Ticker')\n",
    "\n",
    "Asset_Amounts_df['weight'] = Asset_Amounts_df[\"Amount\"] / Asset_Amounts_df[\"Amount\"].sum()\n",
    "OptimizedPortfolio_df['weight'] = OptimizedPortfolio_df[\"Amount\"] / OptimizedPortfolio_df[\"Amount\"].sum()\n",
    "\n",
    "print(Asset_Amounts_df)\n",
    "print(OptimizedPortfolio_df)\n",
    "\n",
    "###################### Returns #######################\n",
    "\n",
    "## Calculate the portfolio returns\n",
    "## Calculate the returns for the non-optimized portfolio\n",
    "NonOptimizedPortfolioReturns = (Asset_Amounts_df['weight'] * AverageDailyReturns).sum()\n",
    "print(f\"{NonOptimizedPortfolioReturns:.10f}\")\n",
    "\n",
    "## Calculate the returns for the optimized portfolio\n",
    "OptimizedPortfolioReturns = (OptimizedPortfolio_df['weight'] * AverageDailyReturns).sum()\n",
    "print(f\"{OptimizedPortfolioReturns:.10f}\")\n",
    "\n",
    "####################### Risk #######################\n",
    "\n",
    "## Calculate the portofolio risk variance\n",
    "NonOptimized_portfolio_variance = np.dot(Asset_Amounts_df['weight'].T, np.dot(CovarianceMatrix, Asset_Amounts_df['weight']))\n",
    "print(f\"Non optimized Portfolio Variance: {NonOptimized_portfolio_variance:.10f}\")\n",
    "NonOptimized_SD = NonOptimized_portfolio_variance**(1/2)\n",
    "print(f\"Non optimized Portfolio Standard Deviation: {NonOptimized_SD:.10f}\")\n",
    "\n",
    "# Optimized portfolio risk variance\n",
    "Optimized_portfolio_variance = np.dot(OptimizedPortfolio_df['weight'].T, np.dot(CovarianceMatrix, OptimizedPortfolio_df['weight']))\n",
    "print(f\"Optimized Portfolio Variance: {Optimized_portfolio_variance:.10f}\")\n",
    "Optimized_SD = Optimized_portfolio_variance**(1/2)\n"
   ]
  },
  {
   "cell_type": "markdown",
   "id": "0e48c483",
   "metadata": {},
   "source": [
    "## ⚡️ Simple optimization with target volatility 🎯📉"
   ]
  },
  {
   "cell_type": "code",
   "execution_count": 117,
   "id": "2187f30d",
   "metadata": {},
   "outputs": [
    {
     "name": "stdout",
     "output_type": "stream",
     "text": [
      "Optimal weights: [0.04528791 0.04112646 0.04189847 0.04210511 0.6099676  0.03980036\n",
      " 0.04114034 0.04531335 0.04631917 0.04704123]\n",
      "Expected return: 0.0018529553901013927\n",
      "Portfolio volatility: 0.02500007378142713\n"
     ]
    }
   ],
   "source": [
    "import numpy as np\n",
    "from scipy.optimize import minimize\n",
    "\n",
    "# Example data (replace with your actual data)\n",
    "mu = AverageDailyReturns.values           # Expected returns, shape (n_assets,)\n",
    "cov = DailyReturns.cov().values           # Covariance matrix, shape (n_assets, n_assets)\n",
    "n_assets = len(mu)\n",
    "target_volatility = 0.025               # Example: 1.5% daily std dev\n",
    "\n",
    "# Objective: maximize return (minimize negative return)\n",
    "def neg_portfolio_return(weights):\n",
    "    return -np.dot(weights, mu)\n",
    "\n",
    "# Constraint: portfolio volatility equals target\n",
    "def volatility_constraint(weights):\n",
    "    return target_volatility - np.sqrt(np.dot(weights.T, np.dot(cov, weights)))\n",
    "\n",
    "# Constraint: weights sum to 1\n",
    "def weight_constraint(weights):\n",
    "    return np.sum(weights) - 1\n",
    "\n",
    "# Bounds: no short selling\n",
    "bounds = [(0, 1) for _ in range(n_assets)]\n",
    "\n",
    "# Initial guess: equally weighted\n",
    "x0 = np.ones(n_assets) / n_assets\n",
    "\n",
    "# Constraints dictionary\n",
    "constraints = [\n",
    "    {'type': 'eq', 'fun': weight_constraint},\n",
    "    {'type': 'eq', 'fun': volatility_constraint}\n",
    "]\n",
    "\n",
    "result = minimize(\n",
    "    neg_portfolio_return,\n",
    "    x0,\n",
    "    method='SLSQP',\n",
    "    bounds=bounds,\n",
    "    constraints=constraints\n",
    ")\n",
    "\n",
    "if result.success:\n",
    "    optimal_weights = result.x\n",
    "    print(\"Optimal weights:\", optimal_weights)\n",
    "    print(\"Expected return:\", np.dot(optimal_weights, mu))\n",
    "    print(\"Portfolio volatility:\", np.sqrt(optimal_weights.T @ cov @ optimal_weights))\n",
    "else:\n",
    "    print(\"Optimization failed:\", result.message)"
   ]
  },
  {
   "cell_type": "markdown",
   "id": "815c25d4",
   "metadata": {},
   "source": [
    "## ⚡️📈 Optimize based on volatility to get great returns with current assets 🚀💰"
   ]
  },
  {
   "cell_type": "code",
   "execution_count": 148,
   "id": "a93e318c",
   "metadata": {},
   "outputs": [
    {
     "name": "stdout",
     "output_type": "stream",
     "text": [
      "Target Volatility: 0.010, Expected Return: nan, Weights: [nan, nan, nan, nan, nan, nan, nan, nan, nan, nan]\n",
      "Target Volatility: 0.010, Expected Return: nan, Weights: [nan, nan, nan, nan, nan, nan, nan, nan, nan, nan]\n",
      "Target Volatility: 0.011, Expected Return: 0.00063, Weights: [0.00000000e+00 0.00000000e+00 0.00000000e+00 4.78068639e-19\n",
      " 0.00000000e+00 1.33261120e-04 0.00000000e+00 9.54219111e-02\n",
      " 2.43232993e-02 8.80121528e-01]\n",
      "Target Volatility: 0.011, Expected Return: 0.00067, Weights: [0.00000000e+00 0.00000000e+00 0.00000000e+00 5.60752029e-20\n",
      " 1.48984914e-19 1.82970011e-04 3.65825348e-19 1.76130835e-01\n",
      " 8.38167530e-02 7.39869442e-01]\n",
      "Target Volatility: 0.011, Expected Return: 0.00070, Weights: [0.00000000e+00 0.00000000e+00 8.04812457e-19 0.00000000e+00\n",
      " 0.00000000e+00 4.42864312e-05 0.00000000e+00 2.34735165e-01\n",
      " 1.44861487e-01 6.20359062e-01]\n"
     ]
    }
   ],
   "source": [
    "import numpy as np\n",
    "from scipy.optimize import minimize\n",
    "\n",
    "# Example data (replace with your actual data)\n",
    "mu = AverageDailyReturns.values           # Expected returns, shape (n_assets,)\n",
    "cov = DailyReturns.cov().values           # Covariance matrix, shape (n_assets, n_assets)\n",
    "n_assets = len(mu)\n",
    "\n",
    "# Bounds: no short selling\n",
    "bounds = [(0, 1) for _ in range(n_assets)]\n",
    "\n",
    "# Initial guess: equally weighted\n",
    "x0 = np.ones(n_assets) / n_assets\n",
    "\n",
    "# Storage for results\n",
    "volatility_list = []\n",
    "weights_list = []\n",
    "returns_list = []\n",
    "\n",
    "# Sweep target_volatility from 0.1 to 0.25 (inclusive) in steps of 0.005\n",
    "target_vol = 0.010\n",
    "while target_vol <= 0.025 + 1e-8:  # Add small epsilon to include 0.25\n",
    "    # Define constraints for this target_vol\n",
    "    def volatility_constraint(weights, target_vol=target_vol):\n",
    "        return target_vol - np.sqrt(np.dot(weights.T, np.dot(cov, weights)))\n",
    "    constraints = [\n",
    "        {'type': 'eq', 'fun': weight_constraint},\n",
    "        {'type': 'eq', 'fun': volatility_constraint}\n",
    "    ]\n",
    "    # Run optimizer\n",
    "    result = minimize(\n",
    "        neg_portfolio_return,\n",
    "        x0,\n",
    "        method='SLSQP',\n",
    "        bounds=bounds,\n",
    "        constraints=constraints\n",
    "    )\n",
    "    if result.success:\n",
    "        optimal_weights = result.x\n",
    "        volatility_list.append(target_vol)\n",
    "        weights_list.append(optimal_weights)\n",
    "        returns_list.append(np.dot(optimal_weights, mu))\n",
    "    else:\n",
    "        # If optimization fails, append NaNs or skip\n",
    "        volatility_list.append(target_vol)\n",
    "        weights_list.append([np.nan]*n_assets)\n",
    "        returns_list.append(np.nan)\n",
    "    target_vol += 0.00025\n",
    "\n",
    "# Example: print first 5 solutions\n",
    "for i in range(5):\n",
    "    print(f\"Target Volatility: {volatility_list[i]:.3f}, Expected Return: {returns_list[i]:.5f}, Weights: {weights_list[i]}\")"
   ]
  },
  {
   "cell_type": "code",
   "execution_count": 149,
   "id": "b74078e8",
   "metadata": {},
   "outputs": [
    {
     "data": {
      "image/png": "[encoded data removed]",
      "text/plain": [
       "<Figure size 1000x600 with 1 Axes>"
      ]
     },
     "metadata": {},
     "output_type": "display_data"
    }
   ],
   "source": [
    "import pandas as pd\n",
    "\n",
    "# Create DataFrame for efficient frontier\n",
    "efficient_frontier_df = pd.DataFrame({\n",
    "    'Volatility': volatility_list,\n",
    "    'Return': returns_list\n",
    "})\n",
    "\n",
    "import matplotlib.pyplot as plt\n",
    "\n",
    "plt.figure(figsize=(10, 6))\n",
    "plt.plot(efficient_frontier_df['Volatility'], efficient_frontier_df['Return'], marker='o', linestyle='-')\n",
    "plt.xlabel('Portfolio Volatility (Risk)')\n",
    "plt.ylabel('Expected Return')\n",
    "plt.title('Efficient Frontier')\n",
    "plt.grid(True)\n",
    "plt.show()\n"
   ]
  },
  {
   "cell_type": "code",
   "execution_count": null,
   "id": "b25f7908",
   "metadata": {},
   "outputs": [],
   "source": []
  },
  {
   "cell_type": "code",
   "execution_count": null,
   "id": "be501ef3",
   "metadata": {},
   "outputs": [],
   "source": []
  }
 ],
 "metadata": {
  "kernelspec": {
   "display_name": "Python 3.10",
   "language": "python",
   "name": "py310"
  },
  "language_info": {
   "codemirror_mode": {
    "name": "ipython",
    "version": 3
   },
   "file_extension": ".py",
   "mimetype": "text/x-python",
   "name": "python",
   "nbconvert_exporter": "python",
   "pygments_lexer": "ipython3",
   "version": "3.10.11"
  }
 },
 "nbformat": 4,
 "nbformat_minor": 5
}
