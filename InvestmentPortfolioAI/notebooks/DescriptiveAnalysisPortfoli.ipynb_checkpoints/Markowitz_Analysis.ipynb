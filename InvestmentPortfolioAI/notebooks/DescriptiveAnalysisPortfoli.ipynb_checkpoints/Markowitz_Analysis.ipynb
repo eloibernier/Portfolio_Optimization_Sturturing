{
 "cells": [
  {
   "cell_type": "markdown",
   "id": "02a7b510",
   "metadata": {},
   "source": [
    "# 🚀 Efficience frontier analysis 📈"
   ]
  },
  {
   "cell_type": "markdown",
   "id": "a7f6e4a1",
   "metadata": {},
   "source": [
    "We will do an efficient frontier analysis based on the portfolio defined in the Data&ETF dataset.\n",
    "\n",
    "## Steps for Efficient Frontier Analysis\n",
    "\n",
    "1. **Data Preparation**\n",
    "    - Load historical price data for each asset in the portfolio.\n",
    "    - Calculate daily returns for each asset.\n",
    "\n",
    "2. **Calculate Expected Returns and Covariance Matrix**\n",
    "    - Compute the mean (expected) return for each asset:  \n",
    "      $$\n",
    "      \\mu_i = \\frac{1}{N} \\sum_{t=1}^{N} r_{i,t}\n",
    "      $$\n",
    "    - Calculate the covariance matrix of asset returns:  \n",
    "      $$\n",
    "      \\Sigma_{ij} = \\frac{1}{N-1} \\sum_{t=1}^{N} (r_{i,t} - \\mu_i)(r_{j,t} - \\mu_j)\n",
    "      $$\n",
    "\n",
    "3. **Portfolio Return and Risk Calculation**\n",
    "    - For a given set of weights $w$, calculate portfolio expected return:  \n",
    "      $$\n",
    "      \\mu_p = \\sum_{i=1}^{n} w_i \\mu_i\n",
    "      $$\n",
    "    - Calculate portfolio variance (risk):  \n",
    "      $$\n",
    "      \\sigma_p^2 = w^T \\Sigma w\n",
    "      $$\n",
    "    - Portfolio standard deviation (volatility):  \n",
    "      $$\n",
    "      \\sigma_p = \\sqrt{w^T \\Sigma w}\n",
    "      $$\n",
    "\n",
    "4. **Optimization to Find Efficient Frontier**\n",
    "    - Vary the weights $w$ to maximize return for a given risk or minimize risk for a given return, subject to constraints:\n",
    "      - $\\sum_{i=1}^{n} w_i = 1$ (weights sum to 1)\n",
    "      - $w_i \\geq 0$ (no short selling, if required)\n",
    "\n",
    "5. **Visualization**\n",
    "    - Plot the efficient frontier: risk (x-axis) vs. expected return (y-axis).\n",
    "    - Highlight the optimal portfolio (e.g., maximum Sharpe ratio).\n",
    "\n",
    "---\n",
    "\n",
    "**Key Mathematical Rules:**\n",
    "- Mean and covariance calculations for returns.\n",
    "- Portfolio return and risk formulas.\n",
    "- Quadratic programming for optimization under constraints."
   ]
  },
  {
   "cell_type": "markdown",
   "id": "e6d58347",
   "metadata": {},
   "source": [
    "## 1. 📊 Historical price and 📅 daily returns"
   ]
  },
  {
   "cell_type": "code",
   "execution_count": null,
   "id": "e4c4c89b",
   "metadata": {},
   "outputs": [
    {
     "name": "stdout",
     "output_type": "stream",
     "text": [
      "AAPL     0.001108\n",
      "GOOGL    0.000922\n",
      "AMZN     0.001227\n",
      "MSFT     0.001001\n",
      "TSLA     0.002176\n",
      "NFLX     0.001594\n",
      "NVDA     0.002146\n",
      "V        0.000937\n",
      "QQQ      0.000797\n",
      "SPY      0.000604\n",
      "dtype: float64\n"
     ]
    }
   ],
   "source": [
    "import pandas as pd\n",
    "\n",
    "## get the historical data for the assets\n",
    "HistoricalData = pd.read_csv('Data/Asset_Data.csv')\n",
    "#print(HistoricalData)\n",
    "\n",
    "# Set 'Date' as index and calculate daily returns only for numeric columns\n",
    "HistoricalData = HistoricalData.set_index('Date')\n",
    "DailyReturns = HistoricalData.ffill().pct_change(periods=1).dropna()\n",
    "#print(DailyReturns)\n",
    "\n"
   ]
  },
  {
   "cell_type": "markdown",
   "id": "921124c4",
   "metadata": {},
   "source": [
    "## 2.0 Calculate the daily returns and the covariance matrix of daily returns"
   ]
  },
  {
   "cell_type": "code",
   "execution_count": 26,
   "id": "95b2d34f",
   "metadata": {},
   "outputs": [
    {
     "name": "stdout",
     "output_type": "stream",
     "text": [
      "AAPL     0.001108\n",
      "GOOGL    0.000922\n",
      "AMZN     0.001227\n",
      "MSFT     0.001001\n",
      "TSLA     0.002176\n",
      "NFLX     0.001594\n",
      "NVDA     0.002146\n",
      "V        0.000937\n",
      "QQQ      0.000797\n",
      "SPY      0.000604\n",
      "dtype: float64\n",
      "           AAPL     GOOGL      AMZN      MSFT      TSLA      NFLX      NVDA  \\\n",
      "AAPL   0.000305  0.000164  0.000171  0.000165  0.000224  0.000161  0.000241   \n",
      "GOOGL  0.000164  0.000296  0.000211  0.000177  0.000204  0.000193  0.000244   \n",
      "AMZN   0.000171  0.000211  0.000422  0.000189  0.000260  0.000276  0.000271   \n",
      "MSFT   0.000165  0.000177  0.000189  0.000261  0.000202  0.000174  0.000259   \n",
      "TSLA   0.000224  0.000204  0.000260  0.000202  0.001306  0.000312  0.000370   \n",
      "NFLX   0.000161  0.000193  0.000276  0.000174  0.000312  0.000975  0.000304   \n",
      "NVDA   0.000241  0.000244  0.000271  0.000259  0.000370  0.000304  0.000819   \n",
      "V      0.000131  0.000139  0.000139  0.000137  0.000163  0.000135  0.000195   \n",
      "QQQ    0.000173  0.000168  0.000188  0.000169  0.000231  0.000185  0.000259   \n",
      "SPY    0.000127  0.000127  0.000131  0.000130  0.000166  0.000127  0.000189   \n",
      "\n",
      "              V       QQQ       SPY  \n",
      "AAPL   0.000131  0.000173  0.000127  \n",
      "GOOGL  0.000139  0.000168  0.000127  \n",
      "AMZN   0.000139  0.000188  0.000131  \n",
      "MSFT   0.000137  0.000169  0.000130  \n",
      "TSLA   0.000163  0.000231  0.000166  \n",
      "NFLX   0.000135  0.000185  0.000127  \n",
      "NVDA   0.000195  0.000259  0.000189  \n",
      "V      0.000243  0.000132  0.000119  \n",
      "QQQ    0.000132  0.000165  0.000127  \n",
      "SPY    0.000119  0.000127  0.000114  \n"
     ]
    }
   ],
   "source": [
    "# Calculate the average daily returns by asset\n",
    "AverageDailyReturns = DailyReturns.mean()\n",
    "print(AverageDailyReturns)\n",
    "\n",
    "# Calculate the covariance matrix of daily returns\n",
    "CovarianceMatrix = DailyReturns.cov()\n",
    "print(CovarianceMatrix)\n"
   ]
  },
  {
   "cell_type": "code",
   "execution_count": null,
   "id": "4ab2928b",
   "metadata": {},
   "outputs": [],
   "source": []
  }
 ],
 "metadata": {
  "kernelspec": {
   "display_name": "Python 3.10",
   "language": "python",
   "name": "py310"
  },
  "language_info": {
   "codemirror_mode": {
    "name": "ipython",
    "version": 3
   },
   "file_extension": ".py",
   "mimetype": "text/x-python",
   "name": "python",
   "nbconvert_exporter": "python",
   "pygments_lexer": "ipython3",
   "version": "3.10.11"
  }
 },
 "nbformat": 4,
 "nbformat_minor": 5
}
