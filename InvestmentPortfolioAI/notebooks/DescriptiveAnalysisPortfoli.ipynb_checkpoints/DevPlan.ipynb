{
 "cells": [
  {
   "cell_type": "markdown",
   "id": "4eae9d2d",
   "metadata": {},
   "source": [
    "# Development plan"
   ]
  },
  {
   "cell_type": "markdown",
   "id": "64165f00",
   "metadata": {},
   "source": [
    "## Goals\n",
    "\n",
    "1. Create a website where people can input their portfolio's data and see how their returns and historical could compare against other asset and how they could reduce their risk exposure.\n",
    "\n",
    "2. Develop an interface where people can chat about their ideas and the robot does the job to influence their trade and how they should optimize while also show many metrics"
   ]
  },
  {
   "cell_type": "markdown",
   "id": "2be86843",
   "metadata": {},
   "source": [
    "## Achievements So Far\n",
    "\n",
    "1. Developed a system to ingest user inputs (ticker and amount) and process the data efficiently.\n",
    "2. Performed historical analysis on portfolio performance.\n",
    "3. Generated comprehensive PDF reports.\n",
    "4. Implemented Markowitz optimization for risk and return analysis.\n",
    "5. Built a web interface using Dash for users to input their tickers and amounts."
   ]
  },
  {
   "cell_type": "markdown",
   "id": "17f750a4",
   "metadata": {},
   "source": [
    "## Next Steps\n",
    "\n",
    "1. Calculate and display monthly historical standard deviation and returns across all charts and backtests.\n",
    "2. ✅ Expand the asset universe by including a comprehensive list of assets available on Yahoo Finance (ETFs, stocks, commodities, cryptocurrencies, and others as needed) to enhance Markowitz optimization.\n",
    "3. ✅ Ensure that any ticker added via the website is present in the expanded dataset and append new tickers as necessary.\n",
    "4. ✅ Create a dedicated Jupyter Notebook for building and maintaining this asset dataset. ---- done \n",
    "5. Develop strategies for handling assets with limited historical data, and incorporate these considerations into the analysis and discussions.\n",
    "6. Implement additional website constraints, such as maximum trading limits and customizable risk tolerance.\n",
    "7. Integrate analysis results into the website workflow, allowing users to input data, save and interpret results, and receive actionable insights and commentary.\n"
   ]
  },
  {
   "cell_type": "markdown",
   "id": "fa4163bb",
   "metadata": {},
   "source": []
  }
 ],
 "metadata": {
  "language_info": {
   "name": "python"
  }
 },
 "nbformat": 4,
 "nbformat_minor": 5
}
