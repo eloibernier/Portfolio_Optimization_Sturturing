{
 "cells": [
  {
   "cell_type": "markdown",
   "id": "9ae80c5b",
   "metadata": {},
   "source": [
    "# 🔬 Tests KPIs and metrics for different assets 🔬"
   ]
  },
  {
   "cell_type": "markdown",
   "id": "1af24a9c",
   "metadata": {},
   "source": [
    "### 🎯 0.0 Key goal 🎯\n",
    "**Goal Statement:** This sheet has the objective to import data with yfinance based on a predescribed list of financial assets with their corresponding predetermined characteristics and make different analysis about their porfolio. "
   ]
  },
  {
   "cell_type": "markdown",
   "id": "45c35595",
   "metadata": {},
   "source": [
    "### 📋 0.1 Define the asset list and characteristics 📋"
   ]
  },
  {
   "cell_type": "code",
   "execution_count": 1,
   "id": "148a311a",
   "metadata": {},
   "outputs": [],
   "source": [
    "Asset_List = [\"AAPL\", \"GOOGL\", \"AMZN\", \"MSFT\", \"TSLA\", \"NFLX\", \"FB\", \"NVDA\", \"BRK.B\", \"V\"]\n",
    "start=\"2010-01-01\"\n",
    "end=\"2024-12-31\"\n",
    "frequency = \"1d\"\n"
   ]
  },
  {
   "cell_type": "code",
   "execution_count": 2,
   "id": "b043162b",
   "metadata": {},
   "outputs": [
    {
     "name": "stdout",
     "output_type": "stream",
     "text": [
      "YF.download() has changed argument auto_adjust default to True\n"
     ]
    },
    {
     "name": "stderr",
     "output_type": "stream",
     "text": [
      "[*********************100%***********************]  1 of 1 completed\n",
      "[*********************100%***********************]  1 of 1 completed\n",
      "[*********************100%***********************]  1 of 1 completed\n",
      "[*********************100%***********************]  1 of 1 completed\n",
      "[*********************100%***********************]  1 of 1 completed\n",
      "[*********************100%***********************]  1 of 1 completed\n",
      "[*********************100%***********************]  1 of 1 completed\n",
      "\n",
      "1 Failed download:\n",
      "['FB']: YFTzMissingError('possibly delisted; no timezone found')\n",
      "[*********************100%***********************]  1 of 1 completed\n",
      "[*********************100%***********************]  1 of 1 completed\n",
      "\n",
      "1 Failed download:\n",
      "['BRK.B']: YFTzMissingError('possibly delisted; no timezone found')\n",
      "[*********************100%***********************]  1 of 1 completed"
     ]
    },
    {
     "name": "stdout",
     "output_type": "stream",
     "text": [
      "                AAPL      GOOGL    AMZN       MSFT  TSLA      NFLX  FB  \\\n",
      "Date                                                                     \n",
      "2010-01-04  6.431898  15.609805  6.6950  23.211432   NaN  7.640000 NaN   \n",
      "2010-01-05  6.443017  15.541063  6.7345  23.218943   NaN  7.358571 NaN   \n",
      "2010-01-06  6.340532  15.149294  6.6125  23.076447   NaN  7.617143 NaN   \n",
      "2010-01-07  6.328810  14.796625  6.5000  22.836451   NaN  7.485714 NaN   \n",
      "2010-01-08  6.370885  14.993881  6.6760  22.993946   NaN  7.614286 NaN   \n",
      "\n",
      "                NVDA  BRK.B          V  \n",
      "Date                                    \n",
      "2010-01-04  0.423884    NaN  19.719212  \n",
      "2010-01-05  0.430073    NaN  19.493242  \n",
      "2010-01-06  0.432824    NaN  19.231480  \n",
      "2010-01-07  0.424342    NaN  19.410461  \n",
      "2010-01-08  0.425259    NaN  19.464163  \n"
     ]
    },
    {
     "name": "stderr",
     "output_type": "stream",
     "text": [
      "\n"
     ]
    }
   ],
   "source": [
    "import yfinance as yf\n",
    "import pandas as pd\n",
    "\n",
    "def get_asset_data(asset_list, start, end, frequency):\n",
    "    \"\"\"\n",
    "    Fetches historical data for a list of assets and combines them into a single DataFrame.\n",
    "    \n",
    "    Parameters:\n",
    "    asset_list (list): List of ticker symbols.\n",
    "    start (str): Start date for the data.\n",
    "    end (str): End date for the data.\n",
    "    frequency (str): Data frequency (e.g., \"1d\" for daily).\n",
    "    \n",
    "    Returns:\n",
    "    DataFrame: Combined historical data with tickers as columns and dates as rows.\n",
    "    \"\"\"\n",
    "    combined_data = pd.DataFrame()\n",
    "    \n",
    "    for asset in asset_list:\n",
    "        try:\n",
    "            # Download data for the current asset\n",
    "            data = yf.download(asset, start=start, end=end, interval=frequency)['Close']\n",
    "            # Add the data to the combined DataFrame\n",
    "            combined_data[asset] = data\n",
    "        except Exception as e:\n",
    "            print(f\"Error fetching data for {asset}: {e}\")\n",
    "    \n",
    "    return combined_data\n",
    "\n",
    "# Fetch and display the combined data\n",
    "data = get_asset_data(Asset_List, start, end, frequency)\n",
    "print(data.head())"
   ]
  },
  {
   "cell_type": "code",
   "execution_count": 3,
   "id": "2af13498",
   "metadata": {},
   "outputs": [
    {
     "name": "stdout",
     "output_type": "stream",
     "text": [
      "                AAPL      GOOGL    AMZN       MSFT  TSLA      NFLX  FB  \\\n",
      "Date                                                                     \n",
      "2010-01-04  6.431898  15.609805  6.6950  23.211432   NaN  7.640000 NaN   \n",
      "2010-01-05  6.443017  15.541063  6.7345  23.218943   NaN  7.358571 NaN   \n",
      "2010-01-06  6.340532  15.149294  6.6125  23.076447   NaN  7.617143 NaN   \n",
      "2010-01-07  6.328810  14.796625  6.5000  22.836451   NaN  7.485714 NaN   \n",
      "2010-01-08  6.370885  14.993881  6.6760  22.993946   NaN  7.614286 NaN   \n",
      "\n",
      "                NVDA  BRK.B          V  \n",
      "Date                                    \n",
      "2010-01-04  0.423884    NaN  19.719212  \n",
      "2010-01-05  0.430073    NaN  19.493242  \n",
      "2010-01-06  0.432824    NaN  19.231480  \n",
      "2010-01-07  0.424342    NaN  19.410461  \n",
      "2010-01-08  0.425259    NaN  19.464163  \n"
     ]
    }
   ],
   "source": [
    "print(data.head())"
   ]
  },
  {
   "cell_type": "code",
   "execution_count": null,
   "id": "aa1551e6",
   "metadata": {},
   "outputs": [],
   "source": []
  }
 ],
 "metadata": {
  "kernelspec": {
   "display_name": "Python 3.10",
   "language": "python",
   "name": "py310"
  },
  "language_info": {
   "codemirror_mode": {
    "name": "ipython",
    "version": 3
   },
   "file_extension": ".py",
   "mimetype": "text/x-python",
   "name": "python",
   "nbconvert_exporter": "python",
   "pygments_lexer": "ipython3",
   "version": "3.10.11"
  }
 },
 "nbformat": 4,
 "nbformat_minor": 5
}
